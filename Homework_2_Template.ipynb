{
  "nbformat": 4,
  "nbformat_minor": 0,
  "metadata": {
    "colab": {
      "provenance": [],
      "include_colab_link": true
    },
    "kernelspec": {
      "name": "python3",
      "display_name": "Python 3"
    },
    "language_info": {
      "name": "python"
    }
  },
  "cells": [
    {
      "cell_type": "markdown",
      "metadata": {
        "id": "view-in-github",
        "colab_type": "text"
      },
      "source": [
        "<a href=\"https://colab.research.google.com/github/amkim3/cs461/blob/main/Homework_2_Template.ipynb\" target=\"_parent\"><img src=\"https://colab.research.google.com/assets/colab-badge.svg\" alt=\"Open In Colab\"/></a>"
      ]
    },
    {
      "cell_type": "code",
      "execution_count": null,
      "metadata": {
        "id": "pygw5IAK9dy4"
      },
      "outputs": [],
      "source": [
        "%matplotlib inline\n",
        "import matplotlib.pyplot as plt\n",
        "import numpy as np\n",
        "from scipy import signal\n",
        "from scipy import fftpack\n",
        "import pandas as pd\n",
        "import seaborn as sns\n",
        "from scipy.integrate import simps\n",
        "\n",
        "samplingFrequency = 512\n",
        "practiceEEGFile = \"https://raw.githubusercontent.com/htil/Simple-Ganglion-BLE-App/master/data/practice_eeg_512Hz.csv\"\n",
        "\n",
        "# Generating Raw EEG Plots (Time Domain)\n",
        "def plotRawEEG(fileURL, channel):\n",
        "  pass\n",
        "\n",
        "# Plot Power-Spectrum Density (Frequency Domain)\n",
        "def plotPSD(fileURL, channel, psdWindowSize=4):\n",
        "  pass\n",
        "\n",
        "# Calculating Absolute Band Power\n",
        "def getbandPower(fileURL, channel, low, high, psdWindowSize=4):\n",
        "  pass\n",
        "\n",
        "# Calculating Relative Band Power\n",
        "def getDeltaBetaRelativeBandPower(fileURL, channel):\n",
        "  pass"
      ]
    }
  ]
}